{
 "cells": [
  {
   "cell_type": "markdown",
   "metadata": {},
   "source": [
    "# Example 4.2\n",
    "Terdapat pada halaman 187 - 189 dalam buku Power System Analysis and Design karya Glover, Sarma dan Overbye.\n"
   ]
  },
  {
   "cell_type": "markdown",
   "metadata": {},
   "source": [
    "\n",
    "$D_{xy}=\\sqrt[6]{D_{11a}D_{12a}D_{21a}D_{22a}D_{31a}D_{32a}}$"
   ]
  },
  {
   "cell_type": "code",
   "execution_count": 42,
   "metadata": {
    "collapsed": false
   },
   "outputs": [
    {
     "name": "stdout",
     "output_type": "stream",
     "text": [
      "Dxy = 3.1892579975458606\n"
     ]
    }
   ],
   "source": [
    "D11a = 4\n",
    "D12a = 4.3\n",
    "D21a = 3.5\n",
    "D22a = 3.8\n",
    "D31a = 2\n",
    "D32a = 2.3\n",
    "Dxy = (D11a*D12a*D21a*D22a*D31a*D32a)**(1/6)\n",
    "print('Dxy =',Dxy)"
   ]
  },
  {
   "cell_type": "markdown",
   "metadata": {},
   "source": [
    "$D_{xx}=\\sqrt[9]{D_{11}D_{12}D_{13}D_{21}D_{22}D_{23}D_{31}D_{32}D_{33}}$"
   ]
  },
  {
   "cell_type": "code",
   "execution_count": 43,
   "metadata": {
    "collapsed": false
   },
   "outputs": [
    {
     "name": "stdout",
     "output_type": "stream",
     "text": [
      "D11 = 0.0233640234921\n"
     ]
    }
   ],
   "source": [
    "r_x = 0.03\n",
    "from scipy import exp\n",
    "r_xa = exp(-1/4)*r_x\n",
    "D11=D22=D33=r_xa\n",
    "print('D11 =',D11)"
   ]
  },
  {
   "cell_type": "code",
   "execution_count": 44,
   "metadata": {
    "collapsed": false
   },
   "outputs": [
    {
     "name": "stdout",
     "output_type": "stream",
     "text": [
      "0.312833991288\n"
     ]
    }
   ],
   "source": [
    "D12=0.5\n",
    "D21=D12\n",
    "D23=1.5\n",
    "D32=D23\n",
    "D13=2.0\n",
    "D31=D13\n",
    "Dxx=( (D11*D12*D13)*(D21*D22*D23)*(D31*D32*D33) )**(1/9)\n",
    "print(Dxx)"
   ]
  },
  {
   "cell_type": "code",
   "execution_count": 45,
   "metadata": {
    "collapsed": false
   },
   "outputs": [
    {
     "name": "stdout",
     "output_type": "stream",
     "text": [
      "0.0311520313229\n"
     ]
    }
   ],
   "source": [
    "r_y=0.04\n",
    "r_ya=exp(-1/4)*r_y\n",
    "print(r_ya)\n",
    "D1a1a=r_ya\n",
    "D2a2a=r_ya\n",
    "D3a3a=r_ya"
   ]
  },
  {
   "cell_type": "code",
   "execution_count": 46,
   "metadata": {
    "collapsed": false
   },
   "outputs": [
    {
     "name": "stdout",
     "output_type": "stream",
     "text": [
      "Dyy = 0.0966726920948\n"
     ]
    }
   ],
   "source": [
    "D1a2a=0.3\n",
    "D2a1a=D1a2a\n",
    "Dyy=( (D1a1a*D1a2a)*(D2a1a*D2a2a) )**(0.25)\n",
    "print('Dyy =',Dyy)"
   ]
  },
  {
   "cell_type": "markdown",
   "metadata": {},
   "source": [
    "$L_x = 2 \\times 10^{-7} \\ln \\frac{Dxy}{Dxx}$\n",
    "\n",
    "$L_y = 2 \\times 10^{-7} \\ln \\frac{Dxy}{Dyy}$"
   ]
  },
  {
   "cell_type": "code",
   "execution_count": 47,
   "metadata": {
    "collapsed": false
   },
   "outputs": [
    {
     "name": "stdout",
     "output_type": "stream",
     "text": [
      "L = 1.16361669944e-06\n"
     ]
    }
   ],
   "source": [
    "from scipy import log\n",
    "Lx = 2e-7*log(Dxy/Dxx)\n",
    "Ly = 2e-7*log(Dxy/Dyy)\n",
    "L=Lx+Ly\n",
    "print('L =',L)"
   ]
  }
 ],
 "metadata": {
  "kernelspec": {
   "display_name": "Python 3",
   "language": "python",
   "name": "python3"
  },
  "language_info": {
   "codemirror_mode": {
    "name": "ipython",
    "version": 3
   },
   "file_extension": ".py",
   "mimetype": "text/x-python",
   "name": "python",
   "nbconvert_exporter": "python",
   "pygments_lexer": "ipython3",
   "version": "3.5.1"
  }
 },
 "nbformat": 4,
 "nbformat_minor": 0
}
